{
 "cells": [
  {
   "cell_type": "markdown",
   "metadata": {},
   "source": [
    "# Object-Oriented-Programming (OOP)"
   ]
  },
  {
   "cell_type": "markdown",
   "metadata": {},
   "source": [
    "## Tasks Today:\n",
    "\n",
    "   \n",
    "\n",
    "1) <b>Creating a Class (Initializing/Declaring)</b> <br>\n",
    "2) <b>Using a Class (Instantiating)</b> <br>\n",
    " &nbsp;&nbsp;&nbsp;&nbsp; a) Creating One Instance <br>\n",
    " &nbsp;&nbsp;&nbsp;&nbsp; b) Creating Multiple Instances <br>\n",
    " &nbsp;&nbsp;&nbsp;&nbsp; c) In-Class Exercise #1 - Create a Class 'Car' and instantiate three different makes of cars <br>\n",
    "3) <b>The \\__init\\__() Method</b> <br>\n",
    " &nbsp;&nbsp;&nbsp;&nbsp; a) The 'self' Attribute <br>\n",
    "4) <b>Class Attributes</b> <br>\n",
    " &nbsp;&nbsp;&nbsp;&nbsp; a) Initializing Attributes <br>\n",
    " &nbsp;&nbsp;&nbsp;&nbsp; b) Setting an Attribute Outside of the \\__init\\__() Method <br>\n",
    " &nbsp;&nbsp;&nbsp;&nbsp; c) Setting Defaults for Attributes <br>\n",
    " &nbsp;&nbsp;&nbsp;&nbsp; d) Accessing Class Attributes <br>\n",
    " &nbsp;&nbsp;&nbsp;&nbsp; e) Changing Class Attributes <br>\n",
    " &nbsp;&nbsp;&nbsp;&nbsp; f) In-Class Exercise #2 - Update your 'Car' class with \\__init\\__() method and class attributes<br>\n",
    "5) <b>Class Methods</b> <br>\n",
    " &nbsp;&nbsp;&nbsp;&nbsp; a) Creating <br>\n",
    " &nbsp;&nbsp;&nbsp;&nbsp; b) Calling <br>\n",
    " &nbsp;&nbsp;&nbsp;&nbsp; c) Modifying an Attribute's Value Through a Method <br>\n",
    " &nbsp;&nbsp;&nbsp;&nbsp; d) Incrementing an Attribute's Value Through a Method <br>\n",
    " &nbsp;&nbsp;&nbsp;&nbsp; e) In-Class Exercise #3 - Update Car class with new methods <br>\n",
    "6) <b>Classes as Attributes</b> <br>\n",
    "8) <b>Exercises</b> <br>\n",
    " &nbsp;&nbsp;&nbsp;&nbsp; a) Exercise #1 - Turn the shopping cart program from yesterday into an object-oriented program <br>\n",
    "  &nbsp;&nbsp;&nbsp;&nbsp; a) Exercise #2 - Create an Animal class with Eat, Sleep, and Play methods <br>"
   ]
  },
  {
   "cell_type": "markdown",
   "metadata": {},
   "source": [
    "## Object-Oriented Programming"
   ]
  },
  {
   "cell_type": "markdown",
   "metadata": {},
   "source": [
    "Object-Oriented Programming (OOP) allows us to create programs so that that properties and behaviors are bundled into **objects**. OOP models real-world entities as software objects that have some data associated with them and can perform certain functions."
   ]
  },
  {
   "cell_type": "markdown",
   "metadata": {},
   "source": [
    "## Creating a Class (Initializing/Declaring)\n",
    "<p>When creating a class, function, or even a variable you are initializing that object. Initializing and Declaring occur at the same time in Python, whereas in lower level languages you have to declare an object before initializing it. This is the first step in the process of using a class.</p>"
   ]
  },
  {
   "cell_type": "code",
   "execution_count": 8,
   "metadata": {},
   "outputs": [
    {
     "name": "stdout",
     "output_type": "stream",
     "text": [
      "Help on class Student in module __main__:\n",
      "\n",
      "class Student(builtins.object)\n",
      " |  Data descriptors defined here:\n",
      " |  \n",
      " |  __dict__\n",
      " |      dictionary for instance variables (if defined)\n",
      " |  \n",
      " |  __weakref__\n",
      " |      list of weak references to the object (if defined)\n",
      "\n",
      "{'__module__': '__main__', '__dict__': <attribute '__dict__' of 'Student' objects>, '__weakref__': <attribute '__weakref__' of 'Student' objects>, '__doc__': None}\n"
     ]
    }
   ],
   "source": [
    "# Syntax: class Classname(): or class Classname:  *always capitalize our class names! pep8 guidelines\n",
    "class Student():\n",
    "    pass\n",
    "\n",
    "\n",
    "help(Student)\n",
    "print(Student.__dict__)"
   ]
  },
  {
   "cell_type": "markdown",
   "metadata": {},
   "source": [
    "## Using a Class (Instantiating)\n",
    "<p>The process of creating a class is called <i>Instantiating</i>. Each time you create a variable of that type of class, it is referred to as an <i>Instance</i> of that class. This is the second step in the process of using a class.</p>"
   ]
  },
  {
   "cell_type": "code",
   "execution_count": 9,
   "metadata": {},
   "outputs": [
    {
     "name": "stdout",
     "output_type": "stream",
     "text": [
      "[1, 2, 3, 4]\n",
      "[6, 7, 8, 9, 10]\n"
     ]
    }
   ],
   "source": [
    "a_list = [1, 2, 3, 4]\n",
    "b_list = [6, 7, 8, 9]\n",
    "\n",
    "b_list.append(10)\n",
    "print(a_list)\n",
    "print(b_list)"
   ]
  },
  {
   "cell_type": "markdown",
   "metadata": {},
   "source": [
    "##### Creating One Instance"
   ]
  },
  {
   "cell_type": "code",
   "execution_count": 10,
   "metadata": {},
   "outputs": [
    {
     "name": "stdout",
     "output_type": "stream",
     "text": [
      "<__main__.Student object at 0x7f75d66e17c0>\n"
     ]
    },
    {
     "data": {
      "text/plain": [
       "<__main__.Student at 0x7f75d66e17c0>"
      ]
     },
     "execution_count": 10,
     "metadata": {},
     "output_type": "execute_result"
    }
   ],
   "source": [
    "# variable = Classname()\n",
    "\n",
    "student_1 = Student()\n",
    "\n",
    "print(student_1)\n",
    "student_1"
   ]
  },
  {
   "cell_type": "markdown",
   "metadata": {},
   "source": [
    "##### Creating Multiple Instances"
   ]
  },
  {
   "cell_type": "code",
   "execution_count": 11,
   "metadata": {},
   "outputs": [
    {
     "name": "stdout",
     "output_type": "stream",
     "text": [
      "<__main__.Student object at 0x7f75ec042730>\n",
      "<__main__.Student object at 0x7f75d670fdc0>\n"
     ]
    }
   ],
   "source": [
    "student_2 = Student()\n",
    "print(student_2)\n",
    "\n",
    "student_3 = Student()\n",
    "print(student_3)"
   ]
  },
  {
   "cell_type": "markdown",
   "metadata": {},
   "source": [
    "##### Adding attributes to instances"
   ]
  },
  {
   "cell_type": "code",
   "execution_count": 12,
   "metadata": {},
   "outputs": [
    {
     "name": "stdout",
     "output_type": "stream",
     "text": [
      "{'first_name': 'Tawny', 'last_name': 'Brown'}\n",
      "{'first_name': 'Bobby', 'last_name': 'Babbit'}\n"
     ]
    }
   ],
   "source": [
    "# instance.property = value\n",
    "\n",
    "student_1.first_name = 'Tawny'\n",
    "student_1.last_name = 'Brown'\n",
    "\n",
    "student_2.first_name = 'Bobby'\n",
    "student_2.last_name = 'Babbit'\n",
    "\n",
    "print(student_1.__dict__)\n",
    "print(student_2.__dict__)"
   ]
  },
  {
   "cell_type": "markdown",
   "metadata": {},
   "source": [
    "### In-Class Exercise #1 - \n",
    "#### Create a Class 'Car' and Instantiate three different car instances. Add a different make for each car.\n",
    "<br>"
   ]
  },
  {
   "cell_type": "code",
   "execution_count": 13,
   "metadata": {},
   "outputs": [
    {
     "name": "stdout",
     "output_type": "stream",
     "text": [
      "<__main__.Car object at 0x7f75d66e1820>\n",
      "{'make': 'Totyota', 'year': '2009', 'model': 'Prius'}\n",
      "<__main__.Car object at 0x7f75d663dc40>\n",
      "{'make': 'Subaru', 'year': '2011', 'model': 'Forester'}\n",
      "<__main__.Car object at 0x7f75d6552fa0>\n",
      "{'make': 'Ford', 'model': 'F-150', 'year': '2019'}\n"
     ]
    }
   ],
   "source": [
    "class Car():\n",
    "    pass\n",
    "\n",
    "car_1 = Car()\n",
    "car_1.make = 'Totyota'\n",
    "car_1.year = '2009'\n",
    "car_1.model = 'Prius'\n",
    "\n",
    "car_2 = Car()\n",
    "car_2.make = 'Subaru'\n",
    "car_2.year = '2011'\n",
    "car_2.model = 'Forester'\n",
    "\n",
    "car_3 = Car()\n",
    "car_3.make = 'Ford'\n",
    "car_3.model = 'F-150'\n",
    "car_3.year = '2019'\n",
    "\n",
    "print(car_1)\n",
    "print(car_1.__dict__)\n",
    "print(car_2)\n",
    "print(car_2.__dict__)\n",
    "print(car_3)\n",
    "print(car_3.__dict__)"
   ]
  },
  {
   "cell_type": "markdown",
   "metadata": {},
   "source": [
    "## The \\__init\\__() Method <br>\n",
    "<p>This method is used in almost every created class, and called only once upon the creation of the class instance. This method will initialize all variables needed for the object.</p>"
   ]
  },
  {
   "cell_type": "markdown",
   "metadata": {},
   "source": [
    "##### The 'self' Attribute <br>\n",
    "<p>This attribute is required to keep track of specific instance's attributes. Without the self attribute, the program would not know how to reference or keep track of an instance's attributes.</p>"
   ]
  },
  {
   "cell_type": "code",
   "execution_count": 15,
   "metadata": {},
   "outputs": [],
   "source": [
    "def create_student(first, last, teacher):\n",
    "    student_instance = Student()\n",
    "    student_instance.first_name = first\n",
    "    student_instance.last_name = last\n",
    "    student_instance.teacher = teacher\n",
    "    return student_instance"
   ]
  },
  {
   "cell_type": "code",
   "execution_count": 19,
   "metadata": {},
   "outputs": [
    {
     "name": "stdout",
     "output_type": "stream",
     "text": [
      "Creating a new instance...\n",
      "<__main__.Student object at 0x7f75d66652b0>\n",
      "{'first_name': 'Jimmy', 'last_name': 'Johnson', 'teacher': 'Mr. Miller'}\n"
     ]
    }
   ],
   "source": [
    "new_student = create_student(Student(), 'Jimmy', 'Johnson', 'Mr. Miller')\n",
    "\n",
    "print(new_student)\n",
    "print(new_student.__dict__)"
   ]
  },
  {
   "cell_type": "code",
   "execution_count": 20,
   "metadata": {},
   "outputs": [
    {
     "ename": "TypeError",
     "evalue": "create_student() missing 1 required positional argument: 'teacher'",
     "output_type": "error",
     "traceback": [
      "\u001b[0;31m---------------------------------------------------------------------------\u001b[0m",
      "\u001b[0;31mTypeError\u001b[0m                                 Traceback (most recent call last)",
      "Input \u001b[0;32mIn [20]\u001b[0m, in \u001b[0;36m<cell line: 1>\u001b[0;34m()\u001b[0m\n\u001b[0;32m----> 1\u001b[0m newer_student \u001b[38;5;241m=\u001b[39m \u001b[43mcreate_student\u001b[49m\u001b[43m(\u001b[49m\u001b[38;5;124;43m'\u001b[39;49m\u001b[38;5;124;43mSally\u001b[39;49m\u001b[38;5;124;43m'\u001b[39;49m\u001b[43m,\u001b[49m\u001b[43m \u001b[49m\u001b[38;5;124;43m'\u001b[39;49m\u001b[38;5;124;43mSallerson\u001b[39;49m\u001b[38;5;124;43m'\u001b[39;49m\u001b[43m,\u001b[49m\u001b[43m \u001b[49m\u001b[38;5;124;43m'\u001b[39;49m\u001b[38;5;124;43mMr. Miller\u001b[39;49m\u001b[38;5;124;43m'\u001b[39;49m\u001b[43m)\u001b[49m\n\u001b[1;32m      3\u001b[0m \u001b[38;5;28mprint\u001b[39m(new_student)\n\u001b[1;32m      4\u001b[0m \u001b[38;5;28mprint\u001b[39m(new_student\u001b[38;5;241m.\u001b[39m\u001b[38;5;18m__dict__\u001b[39m)\n",
      "\u001b[0;31mTypeError\u001b[0m: create_student() missing 1 required positional argument: 'teacher'"
     ]
    }
   ],
   "source": [
    "newer_student = create_student('Sally', 'Sallerson', 'Mr. Miller')\n",
    "\n",
    "print(new_student)\n",
    "print(new_student.__dict__)"
   ]
  },
  {
   "cell_type": "code",
   "execution_count": 23,
   "metadata": {},
   "outputs": [
    {
     "name": "stdout",
     "output_type": "stream",
     "text": [
      "Creating a new instance...\n",
      "<__main__.Student object at 0x7f75d65b9340>\n",
      "{'first_name': 'Molly', 'last_name': 'Mollerson', 'teacher': 'Mr. Miller'}\n"
     ]
    }
   ],
   "source": [
    "# self is a way to keep track of the attributes for a class\n",
    "def create_student_like_an_init(self, first, last, teacher):\n",
    "    self.first_name = first\n",
    "    self.last_name = last\n",
    "    self.teacher = teacher\n",
    "    \n",
    "    return self\n",
    "\n",
    "student_a = create_student_like_an_init(Student(), 'Molly', 'Mollerson', 'Mr. Miller')\n",
    "print(student_a)\n",
    "print(student_a.__dict__)"
   ]
  },
  {
   "cell_type": "code",
   "execution_count": 24,
   "metadata": {},
   "outputs": [
    {
     "name": "stdout",
     "output_type": "stream",
     "text": [
      "Creating a new instance...\n",
      "self: <__main__.Student object at 0x7f75d671ffa0>\n",
      "<__main__.Student object at 0x7f75d671ffa0>\n",
      "{'first_name': 'Tim', 'last_name': 'Anderson', 'teacher': 'Mr. Honey'}\n"
     ]
    }
   ],
   "source": [
    "class Student:\n",
    "    # self is a way to keep track of the attributes for a class\n",
    "    def __init__(self, first, last, teacher):\n",
    "        print('Creating a new instance...')\n",
    "        print(\"self:\", self)\n",
    "        self.first_name = first\n",
    "        self.last_name = last\n",
    "        self.teacher = teacher\n",
    "        \n",
    "        \n",
    "student_c = Student('Tim', 'Anderson', 'Mr. Honey')\n",
    "print(student_c)\n",
    "print(student_c.__dict__)"
   ]
  },
  {
   "cell_type": "code",
   "execution_count": 30,
   "metadata": {},
   "outputs": [
    {
     "name": "stdout",
     "output_type": "stream",
     "text": [
      "Mr. Honey\n",
      "4.0\n"
     ]
    },
    {
     "ename": "TypeError",
     "evalue": "__init__() got an unexpected keyword argument 'gpa'",
     "output_type": "error",
     "traceback": [
      "\u001b[0;31m---------------------------------------------------------------------------\u001b[0m",
      "\u001b[0;31mTypeError\u001b[0m                                 Traceback (most recent call last)",
      "Input \u001b[0;32mIn [30]\u001b[0m, in \u001b[0;36m<cell line: 17>\u001b[0;34m()\u001b[0m\n\u001b[1;32m     14\u001b[0m \u001b[38;5;28mprint\u001b[39m(student_f\u001b[38;5;241m.\u001b[39mteacher)\n\u001b[1;32m     15\u001b[0m \u001b[38;5;28mprint\u001b[39m(student_f\u001b[38;5;241m.\u001b[39mgpa)\n\u001b[0;32m---> 17\u001b[0m student_x \u001b[38;5;241m=\u001b[39m \u001b[43mStudent\u001b[49m\u001b[43m(\u001b[49m\u001b[38;5;124;43m'\u001b[39;49m\u001b[38;5;124;43mXavier\u001b[39;49m\u001b[38;5;124;43m'\u001b[39;49m\u001b[43m,\u001b[49m\u001b[43m \u001b[49m\u001b[38;5;124;43m'\u001b[39;49m\u001b[38;5;124;43mXerxes\u001b[39;49m\u001b[38;5;124;43m'\u001b[39;49m\u001b[43m,\u001b[49m\u001b[43m \u001b[49m\u001b[38;5;124;43m'\u001b[39;49m\u001b[38;5;124;43mMr. Xylo\u001b[39;49m\u001b[38;5;124;43m'\u001b[39;49m\u001b[43m,\u001b[49m\u001b[43m \u001b[49m\u001b[43mgpa\u001b[49m\u001b[43m \u001b[49m\u001b[38;5;241;43m=\u001b[39;49m\u001b[43m \u001b[49m\u001b[38;5;241;43m2.85\u001b[39;49m\u001b[43m)\u001b[49m\n\u001b[1;32m     18\u001b[0m \u001b[38;5;28mprint\u001b[39m(student_x\u001b[38;5;241m.\u001b[39mteacher)\n\u001b[1;32m     19\u001b[0m \u001b[38;5;28mprint\u001b[39m(student_x\u001b[38;5;241m.\u001b[39mgpa)\n",
      "\u001b[0;31mTypeError\u001b[0m: __init__() got an unexpected keyword argument 'gpa'"
     ]
    }
   ],
   "source": [
    "class Student:\n",
    "    # self is a way to keep track of the attributes for a class\n",
    "    def __init__(self, first, last, teacher):\n",
    "\n",
    "        self.first_name = first\n",
    "        self.last_name = last\n",
    "        self.teacher = teacher\n",
    "        # can assign a default value to an attribute\n",
    "        # don't include in init attributes if it's a default\n",
    "        self.gpa = 4.0\n",
    "        \n",
    "        \n",
    "student_f = Student('Frank', 'Frankieson', 'Mr. Honey')\n",
    "print(student_f.teacher)\n",
    "print(student_f.gpa)\n",
    "\n",
    "student_x = Student('Xavier', 'Xerxes', 'Mr. Xylo', gpa = 2.85)\n",
    "print(student_x.teacher)\n",
    "print(student_x.gpa)"
   ]
  },
  {
   "cell_type": "markdown",
   "metadata": {},
   "source": [
    "## Class Attributes <br>\n",
    "<p>While variables are inside of a class, they are referred to as attributes and not variables. When someone says 'attribute' you know they're speaking about a class. Attributes can be initialized through the init method, or outside of it.</p>\n",
    "\n",
    "<p>There are instance attributes and <br> ___ attributes</p>"
   ]
  },
  {
   "cell_type": "markdown",
   "metadata": {},
   "source": [
    "##### Initializing Attributes"
   ]
  },
  {
   "cell_type": "code",
   "execution_count": 31,
   "metadata": {},
   "outputs": [],
   "source": [
    "class Truck:\n",
    "    def __init__(self, color, make):\n",
    "        self.color = color # instance attribute\n",
    "        self.make = make # instance attribute\n",
    "    \n",
    "truck1 = Truck('blue', 'Ford')\n",
    "truck2 = Truck('red', 'Chevy')"
   ]
  },
  {
   "cell_type": "code",
   "execution_count": 32,
   "metadata": {
    "scrolled": true
   },
   "outputs": [
    {
     "name": "stdout",
     "output_type": "stream",
     "text": [
      "{'color': 'blue', 'make': 'Ford'}\n",
      "blue\n"
     ]
    }
   ],
   "source": [
    "print(truck1.__dict__)\n",
    "print(truck1.color)"
   ]
  },
  {
   "cell_type": "code",
   "execution_count": 33,
   "metadata": {},
   "outputs": [
    {
     "name": "stdout",
     "output_type": "stream",
     "text": [
      "{'color': 'red', 'make': 'Chevy'}\n",
      "red\n"
     ]
    }
   ],
   "source": [
    "print(truck2.__dict__)\n",
    "print(truck2.color)"
   ]
  },
  {
   "cell_type": "code",
   "execution_count": 36,
   "metadata": {},
   "outputs": [],
   "source": [
    "# first check if self has attribute\n",
    "# then check if class has attribute\n",
    "\n",
    "class Truck:\n",
    "    wheels = 4 # class attribute\n",
    "    def __init__(self, color, make):\n",
    "        self.color = color \n",
    "        self.make = make \n",
    "\n",
    "truck1 = Truck('blue', 'Ford')\n",
    "truck2 = Truck('red', 'Chevy')"
   ]
  },
  {
   "cell_type": "code",
   "execution_count": 37,
   "metadata": {},
   "outputs": [
    {
     "name": "stdout",
     "output_type": "stream",
     "text": [
      "{'color': 'blue', 'make': 'Ford'}\n",
      "4\n"
     ]
    }
   ],
   "source": [
    "print(truck1.__dict__)\n",
    "print(truck1.wheels)"
   ]
  },
  {
   "cell_type": "code",
   "execution_count": 38,
   "metadata": {
    "scrolled": true
   },
   "outputs": [
    {
     "name": "stdout",
     "output_type": "stream",
     "text": [
      "{'__module__': '__main__', 'wheels': 4, '__init__': <function Truck.__init__ at 0x7f75d5a97550>, '__dict__': <attribute '__dict__' of 'Truck' objects>, '__weakref__': <attribute '__weakref__' of 'Truck' objects>, '__doc__': None}\n"
     ]
    }
   ],
   "source": [
    "print(Truck.__dict__)"
   ]
  },
  {
   "cell_type": "code",
   "execution_count": 40,
   "metadata": {},
   "outputs": [
    {
     "ename": "AttributeError",
     "evalue": "'Truck' object has no attribute 'model'",
     "output_type": "error",
     "traceback": [
      "\u001b[0;31m---------------------------------------------------------------------------\u001b[0m",
      "\u001b[0;31mAttributeError\u001b[0m                            Traceback (most recent call last)",
      "Input \u001b[0;32mIn [40]\u001b[0m, in \u001b[0;36m<cell line: 1>\u001b[0;34m()\u001b[0m\n\u001b[0;32m----> 1\u001b[0m \u001b[38;5;28mprint\u001b[39m(\u001b[43mtruck1\u001b[49m\u001b[38;5;241;43m.\u001b[39;49m\u001b[43mmodel\u001b[49m)\n",
      "\u001b[0;31mAttributeError\u001b[0m: 'Truck' object has no attribute 'model'"
     ]
    }
   ],
   "source": [
    "print(truck1.model)\n",
    "# never defined model attribute"
   ]
  },
  {
   "cell_type": "code",
   "execution_count": 45,
   "metadata": {
    "scrolled": true
   },
   "outputs": [
    {
     "name": "stdout",
     "output_type": "stream",
     "text": [
      "Truck 1: 18\n",
      "Truck 2: 24\n",
      "Truck 1: 18\n",
      "Truck 2: 24\n",
      "Truck 1: 18\n",
      "Truck 2: 24\n"
     ]
    }
   ],
   "source": [
    "#checks locally (instance) first, then checks globally (class)\n",
    "\n",
    "print(\"Truck 1:\", truck1.wheels) # checks instance attribute first - nothing, goes to class attr = 4\n",
    "print(\"Truck 2:\", truck2.wheels) # checks instance attribute first - nothing, goes to class attr = 4\n",
    "truck1.wheels = 18 # setting the INSTANCE attribute on truck1\n",
    "print(\"Truck 1:\", truck1.wheels) # checks instance attribute first - truck1 now has 18\n",
    "print(\"Truck 2:\", truck2.wheels) # checks instance attribute first - nothing, goes to class attr = 4\n",
    "Truck.wheels = 24 # setting the CLASS attribute on class Truck\n",
    "print(\"Truck 1:\", truck1.wheels) # checks instance attribute first - truck1 still has 18\n",
    "print(\"Truck 2:\", truck2.wheels) # checks instance attribute first - nothing, goes to new class attr = 24"
   ]
  },
  {
   "cell_type": "code",
   "execution_count": 43,
   "metadata": {
    "scrolled": false
   },
   "outputs": [
    {
     "name": "stdout",
     "output_type": "stream",
     "text": [
      "{'color': 'blue', 'make': 'Ford', 'wheels': 18}\n",
      "{'color': 'red', 'make': 'Chevy'}\n"
     ]
    }
   ],
   "source": [
    "print(truck1.__dict__)\n",
    "print(truck2.__dict__)"
   ]
  },
  {
   "cell_type": "code",
   "execution_count": 44,
   "metadata": {},
   "outputs": [
    {
     "name": "stdout",
     "output_type": "stream",
     "text": [
      "{'__module__': '__main__', 'wheels': 24, '__init__': <function Truck.__init__ at 0x7f75d5a97550>, '__dict__': <attribute '__dict__' of 'Truck' objects>, '__weakref__': <attribute '__weakref__' of 'Truck' objects>, '__doc__': None}\n"
     ]
    }
   ],
   "source": [
    "print(Truck.__dict__)"
   ]
  },
  {
   "cell_type": "markdown",
   "metadata": {},
   "source": [
    "##### Accessing Class Attributes"
   ]
  },
  {
   "cell_type": "code",
   "execution_count": null,
   "metadata": {
    "scrolled": true
   },
   "outputs": [],
   "source": [
    "# See Above"
   ]
  },
  {
   "cell_type": "markdown",
   "metadata": {},
   "source": [
    "##### Setting Defaults for Attributes"
   ]
  },
  {
   "cell_type": "code",
   "execution_count": 49,
   "metadata": {},
   "outputs": [
    {
     "name": "stdout",
     "output_type": "stream",
     "text": [
      "Schwinn\n",
      "Giant\n"
     ]
    }
   ],
   "source": [
    "class Bike:\n",
    "    def __init__(self, color, brand = 'Schwinn'):\n",
    "        self.color = color\n",
    "        self.brand = brand\n",
    "        self.wheels = 2\n",
    "\n",
    "my_bike = Bike('red')\n",
    "your_bike = Bike('blue', 'Giant')\n",
    "their_bike = Bike('grey')\n",
    "\n",
    "print(my_bike.brand)\n",
    "print(your_bike.brand)"
   ]
  },
  {
   "cell_type": "code",
   "execution_count": 51,
   "metadata": {},
   "outputs": [
    {
     "name": "stdout",
     "output_type": "stream",
     "text": [
      "2\n",
      "2\n",
      "3\n"
     ]
    }
   ],
   "source": [
    "their_bike.wheels = 3\n",
    "print(my_bike.wheels)\n",
    "print(your_bike.wheels)\n",
    "print(their_bike.wheels)"
   ]
  },
  {
   "cell_type": "markdown",
   "metadata": {},
   "source": [
    "##### Changing Class Attributes <br>\n",
    "<p>Keep in mind there are global class attributes and then there are attributes only available to each class instance which won't effect other classes.</p>"
   ]
  },
  {
   "cell_type": "code",
   "execution_count": 52,
   "metadata": {},
   "outputs": [],
   "source": [
    "class Truck:\n",
    "    wheels = 4 # class attribute\n",
    "    \n",
    "    def __init__(self, color, make):\n",
    "        self.color = color \n",
    "        self.make = make \n",
    "        \n",
    "truck1 = Truck('black', 'Ford')\n",
    "truck2 = Truck('white', 'GM')\n",
    "truck3 = Truck('red', 'Chevy')"
   ]
  },
  {
   "cell_type": "code",
   "execution_count": 53,
   "metadata": {},
   "outputs": [
    {
     "name": "stdout",
     "output_type": "stream",
     "text": [
      "4\n",
      "4\n",
      "4\n"
     ]
    }
   ],
   "source": [
    "print(truck1.wheels)\n",
    "print(truck2.wheels)\n",
    "print(truck3.wheels)"
   ]
  },
  {
   "cell_type": "code",
   "execution_count": 54,
   "metadata": {},
   "outputs": [
    {
     "name": "stdout",
     "output_type": "stream",
     "text": [
      "18\n",
      "4\n",
      "4\n"
     ]
    }
   ],
   "source": [
    "# set new instance attribute\n",
    "truck1.wheels = 18\n",
    "\n",
    "print(truck1.wheels)\n",
    "print(truck2.wheels)\n",
    "print(truck3.wheels)"
   ]
  },
  {
   "cell_type": "code",
   "execution_count": 55,
   "metadata": {},
   "outputs": [
    {
     "name": "stdout",
     "output_type": "stream",
     "text": [
      "18\n",
      "24\n",
      "24\n"
     ]
    }
   ],
   "source": [
    "# set new class attribute\n",
    "Truck.wheels = 24\n",
    "\n",
    "print(truck1.wheels)\n",
    "print(truck2.wheels)\n",
    "print(truck3.wheels)"
   ]
  },
  {
   "cell_type": "markdown",
   "metadata": {},
   "source": [
    "##### In-Class Exercise 2 - Create an \\__init__ method for your Car class which takes in color and model with a default value for gas_level of 100. Your class should also have a class attribute for make. Once you have created the class, instantiate 3 different cars"
   ]
  },
  {
   "cell_type": "code",
   "execution_count": null,
   "metadata": {},
   "outputs": [],
   "source": [
    "class Bike:\n",
    "    def __init__(self, color, brand = 'Schwinn'):\n",
    "        self.color = color\n",
    "        self.brand = brand\n",
    "        self.wheels = 2"
   ]
  },
  {
   "cell_type": "code",
   "execution_count": 72,
   "metadata": {},
   "outputs": [
    {
     "name": "stdout",
     "output_type": "stream",
     "text": [
      "white Subaru Outback 100\n",
      "blue Subaru Forester 100\n",
      "green Toyota Rav4 80\n"
     ]
    }
   ],
   "source": [
    "class Car:\n",
    "    make = 'Subaru'\n",
    "    def __init__(self, model, color, gas_level = 100):\n",
    "        self.model = model\n",
    "        self.color = color\n",
    "        self.gas_level = gas_level\n",
    "        \n",
    "car1 = Car('Outback', 'white')\n",
    "car2 = Car('Forester', 'blue')\n",
    "car3 = Car('Rav4', 'green', 80)\n",
    "car3.make = 'Toyota'\n",
    "\n",
    "\n",
    "print(car1.color, car1.make, car1.model, car1.gas_level)\n",
    "print(car2.color, car2.make, car2.model, car2.gas_level)\n",
    "print(car3.color, car3.make, car3.model, car3.gas_level)\n"
   ]
  },
  {
   "cell_type": "markdown",
   "metadata": {},
   "source": [
    "## Class Methods <br>\n",
    "<p>While inside of a class, functions are referred to as 'methods'. If you hear someone mention methods, they're speaking about classes. Methods are essentially functions, but only callable on the instances of a class.</p>"
   ]
  },
  {
   "cell_type": "code",
   "execution_count": null,
   "metadata": {},
   "outputs": [],
   "source": [
    "# a method is a function specific to a class\n"
   ]
  },
  {
   "cell_type": "markdown",
   "metadata": {},
   "source": [
    "##### Creating"
   ]
  },
  {
   "cell_type": "code",
   "execution_count": 76,
   "metadata": {},
   "outputs": [],
   "source": [
    "# a method is a function specific to a class\n",
    "\n",
    "class Employee:\n",
    "    raise_amount = 1.05\n",
    "    def __init__(self, first, last, salary):\n",
    "        self.first = first.title()\n",
    "        self.last = last.title()\n",
    "        self.salary = salary\n",
    "        self.email = first.lower() + '.' + last.lower() + '@company.org'\n",
    "        #   won't take in an email address as an input, \n",
    "        #   but will automatically create an email address for any new object of class, 'Employee'\n",
    "        \n",
    "        \n",
    "empl1 = Employee('Greg', 'McGregory', 100000)\n",
    "empl2 = Employee('Veronica', 'Scharz', 200000)"
   ]
  },
  {
   "cell_type": "code",
   "execution_count": 79,
   "metadata": {},
   "outputs": [
    {
     "name": "stdout",
     "output_type": "stream",
     "text": [
      "Greg Mcgregory\n",
      "greg.mcgregory@company.org\n"
     ]
    }
   ],
   "source": [
    "print(empl1.first, empl1.last)\n",
    "print(empl1.email)"
   ]
  },
  {
   "cell_type": "code",
   "execution_count": 86,
   "metadata": {},
   "outputs": [],
   "source": [
    "def employee_full_name(employee_instance):\n",
    "    return f\"{employee_instance.first} {employee_instance.last}\"\n"
   ]
  },
  {
   "cell_type": "code",
   "execution_count": 87,
   "metadata": {},
   "outputs": [
    {
     "data": {
      "text/plain": [
       "'Greg Mcgregory'"
      ]
     },
     "execution_count": 87,
     "metadata": {},
     "output_type": "execute_result"
    }
   ],
   "source": [
    "employee_full_name(empl1)"
   ]
  },
  {
   "cell_type": "code",
   "execution_count": 88,
   "metadata": {},
   "outputs": [
    {
     "data": {
      "text/plain": [
       "'Veronica Scharz'"
      ]
     },
     "execution_count": 88,
     "metadata": {},
     "output_type": "execute_result"
    }
   ],
   "source": [
    "employee_full_name(empl2)"
   ]
  },
  {
   "cell_type": "code",
   "execution_count": 96,
   "metadata": {},
   "outputs": [],
   "source": [
    "class Employee:\n",
    "    raise_amount = 1.05\n",
    "    def __init__(self, first, last, salary):\n",
    "        self.first = first.title()\n",
    "        self.last = last.title()\n",
    "        self.salary = salary\n",
    "        self.email = first.lower() + '.' + last.lower() + '@company.org'\n",
    "        #   won't take in an email address as an input, \n",
    "        #   but will automatically create an email address for any new object of class, 'Employee'\n",
    "    def employee_full_name(self):\n",
    "        return f\"{self.first} {self.last}\"\n",
    "\n",
    "# need to re-define objects after revising the class instantiation\n",
    "# (was getting error, \"employee_full_name\" not defined for Employee)\n",
    "empl1 = Employee('Greg', 'McGregory', 100000)\n",
    "empl2 = Employee('Veronica', 'Scharz', 200000)"
   ]
  },
  {
   "cell_type": "code",
   "execution_count": 94,
   "metadata": {},
   "outputs": [
    {
     "data": {
      "text/plain": [
       "'Greg Mcgregory'"
      ]
     },
     "execution_count": 94,
     "metadata": {},
     "output_type": "execute_result"
    }
   ],
   "source": [
    "empl1.employee_full_name()"
   ]
  },
  {
   "cell_type": "code",
   "execution_count": 95,
   "metadata": {},
   "outputs": [
    {
     "data": {
      "text/plain": [
       "'Veronica Scharz'"
      ]
     },
     "execution_count": 95,
     "metadata": {},
     "output_type": "execute_result"
    }
   ],
   "source": [
    "empl2.employee_full_name()"
   ]
  },
  {
   "cell_type": "code",
   "execution_count": 97,
   "metadata": {},
   "outputs": [
    {
     "name": "stdout",
     "output_type": "stream",
     "text": [
      "Help on class Employee in module __main__:\n",
      "\n",
      "class Employee(builtins.object)\n",
      " |  Employee(first, last, salary)\n",
      " |  \n",
      " |  Methods defined here:\n",
      " |  \n",
      " |  __init__(self, first, last, salary)\n",
      " |      Initialize self.  See help(type(self)) for accurate signature.\n",
      " |  \n",
      " |  employee_full_name(self)\n",
      " |  \n",
      " |  ----------------------------------------------------------------------\n",
      " |  Data descriptors defined here:\n",
      " |  \n",
      " |  __dict__\n",
      " |      dictionary for instance variables (if defined)\n",
      " |  \n",
      " |  __weakref__\n",
      " |      list of weak references to the object (if defined)\n",
      " |  \n",
      " |  ----------------------------------------------------------------------\n",
      " |  Data and other attributes defined here:\n",
      " |  \n",
      " |  raise_amount = 1.05\n",
      "\n"
     ]
    }
   ],
   "source": [
    "help(Employee)"
   ]
  },
  {
   "cell_type": "markdown",
   "metadata": {},
   "source": [
    "##### Calling"
   ]
  },
  {
   "cell_type": "code",
   "execution_count": null,
   "metadata": {},
   "outputs": [],
   "source": [
    "# see above"
   ]
  },
  {
   "cell_type": "markdown",
   "metadata": {},
   "source": [
    "##### Modifying an Attribute's Value Through a Method"
   ]
  },
  {
   "cell_type": "code",
   "execution_count": 102,
   "metadata": {},
   "outputs": [
    {
     "name": "stdout",
     "output_type": "stream",
     "text": [
      "Silverman\n"
     ]
    },
    {
     "data": {
      "text/plain": [
       "'Greg Silverman'"
      ]
     },
     "execution_count": 102,
     "metadata": {},
     "output_type": "execute_result"
    }
   ],
   "source": [
    "empl1.last = 'Silverman'\n",
    "print(empl1.last)\n",
    "empl1.employee_full_name()"
   ]
  },
  {
   "cell_type": "code",
   "execution_count": 115,
   "metadata": {},
   "outputs": [],
   "source": [
    "class Employee:\n",
    "    raise_amount = 1.05\n",
    "    def __init__(self, first, last, salary):\n",
    "        self.first = first.title()\n",
    "        self.last = last.title()\n",
    "        self.salary = salary\n",
    "        self.email = first.lower() + '.' + last.lower() + '@company.org'\n",
    "        #   won't take in an email address as an input, \n",
    "        #   but will automatically create an email address for any new object of class, 'Employee'\n",
    "    def employee_full_name(self):\n",
    "        return f\"{self.first} {self.last}\"\n",
    "    def change_last_name(self, new_last_name):\n",
    "        self.last = new_last_name\n",
    "        self.email = self.first.lower() + '.' + self.last.lower() + '@company.org'\n",
    "        \n",
    "empl1 = Employee('Greg', 'McGregory', 100000)\n",
    "empl2 = Employee('Veronica', 'Scharz', 200000)"
   ]
  },
  {
   "cell_type": "code",
   "execution_count": 118,
   "metadata": {},
   "outputs": [
    {
     "name": "stdout",
     "output_type": "stream",
     "text": [
      "Greg Mcgregory\n",
      "Greg Silverman\n",
      "greg.silverman@company.org\n"
     ]
    }
   ],
   "source": [
    "print(empl1.employee_full_name())\n",
    "empl1.change_last_name('Silverman')\n",
    "print(empl1.employee_full_name())\n",
    "print(empl1.email)"
   ]
  },
  {
   "cell_type": "markdown",
   "metadata": {},
   "source": [
    "##### Incrementing an Attribute's Value Through a Method"
   ]
  },
  {
   "cell_type": "code",
   "execution_count": 130,
   "metadata": {},
   "outputs": [],
   "source": [
    "class Employee:\n",
    "    raise_amount = 1.05\n",
    "    \n",
    "    def __init__(self, first, last, salary):\n",
    "        self.first = first.title()\n",
    "        self.last = last.title()\n",
    "        self.salary = salary\n",
    "        self.email = first.lower() + '.' + last.lower() + '@company.org'\n",
    "        #   won't take in an email address as an input, \n",
    "        #   but will automatically create an email address for any new object of class, 'Employee'\n",
    "        \n",
    "    def employee_full_name(self):\n",
    "        return f\"{self.first} {self.last}\"\n",
    "    \n",
    "    def change_last_name(self, new_last_name):\n",
    "        self.last = new_last_name\n",
    "        self.email = self.first.lower() + '.' + self.last.lower() + '@company.org'\n",
    "    \n",
    "    def apply_raise(self):\n",
    "        #                             Employee.raise_amount == CLASS attribute\n",
    "        self.salary = int(self.salary * Employee.raise_amount)\n",
    "        \n",
    "empl1 = Employee('Greg', 'McGregory', 100000)\n",
    "empl2 = Employee('Veronica', 'Scharz', 200000)"
   ]
  },
  {
   "cell_type": "code",
   "execution_count": 131,
   "metadata": {},
   "outputs": [
    {
     "name": "stdout",
     "output_type": "stream",
     "text": [
      "Greg Mcgregory's' starting salary is 100000\n",
      "Good job, Greg, you deserve a raise!\n",
      "Greg Mcgregory's' NEW salary is 105000\n",
      "Good job, Greg, you deserve ANOTHER raise!\n",
      "Greg Mcgregory's' NEW salary is 110250\n"
     ]
    }
   ],
   "source": [
    "print(f\"{empl1.employee_full_name()}'s' starting salary is {empl1.salary}\")\n",
    "print(f\"Good job, {empl1.first}, you deserve a raise!\")\n",
    "empl1.apply_raise()\n",
    "print(f\"{empl1.employee_full_name()}'s' NEW salary is {empl1.salary}\")\n",
    "print(f\"Good job, {empl1.first}, you deserve ANOTHER raise!\")\n",
    "empl1.apply_raise()\n",
    "print(f\"{empl1.employee_full_name()}'s' NEW salary is {empl1.salary}\")"
   ]
  },
  {
   "cell_type": "code",
   "execution_count": 133,
   "metadata": {},
   "outputs": [
    {
     "name": "stdout",
     "output_type": "stream",
     "text": [
      "Greg Mcgregory's' starting salary is 100000\n",
      "Good job, Greg, you deserve a raise!\n",
      "Greg Mcgregory's' NEW salary is 105000\n",
      "Good job, Greg, you deserve ANOTHER raise!\n",
      "Greg Mcgregory's' NEW salary is 110250\n"
     ]
    }
   ],
   "source": [
    "empl1.salary = 100000 # reset employee 1 salary to $100,000\n",
    "empl1.raise_amount = 1.25 # set an instance attribute for raise amount for 25% raise\n",
    "\n",
    "print(f\"{empl1.employee_full_name()}'s' starting salary is {empl1.salary}\")\n",
    "print(f\"Good job, {empl1.first}, you deserve a raise!\")\n",
    "empl1.apply_raise()\n",
    "print(f\"{empl1.employee_full_name()}'s' NEW salary is {empl1.salary}\")\n",
    "print(f\"Good job, {empl1.first}, you deserve ANOTHER raise!\")\n",
    "empl1.apply_raise()\n",
    "print(f\"{empl1.employee_full_name()}'s' NEW salary is {empl1.salary}\")\n",
    "\n",
    "# even though the instance attribute is a higher raise amount,\n",
    "# the raise amount uses the CLASS raise amount \n",
    "# because the function multiplies by the class attribute (Employee.raise_amount)"
   ]
  },
  {
   "cell_type": "code",
   "execution_count": 137,
   "metadata": {},
   "outputs": [],
   "source": [
    "class Employee:\n",
    "    raise_amount = 1.05\n",
    "    \n",
    "    def __init__(self, first, last, salary):\n",
    "        self.first = first.title()\n",
    "        self.last = last.title()\n",
    "        self.salary = salary\n",
    "        self.email = first.lower() + '.' + last.lower() + '@company.org'\n",
    "        #   won't take in an email address as an input, \n",
    "        #   but will automatically create an email address for any new object of class, 'Employee'\n",
    "        \n",
    "    def employee_full_name(self):\n",
    "        return f\"{self.first} {self.last}\"\n",
    "    \n",
    "    def change_last_name(self, new_last_name):\n",
    "        self.last = new_last_name\n",
    "        self.email = self.first.lower() + '.' + self.last.lower() + '@company.org'\n",
    "    \n",
    "    def apply_raise(self):\n",
    "        #                             self.raise_amount == INSTANCE attribute\n",
    "        self.salary = int(self.salary * self.raise_amount)\n",
    "        \n",
    "empl1 = Employee('Greg', 'McGregory', 100000)\n",
    "empl2 = Employee('Veronica', 'Scharz', 200000)"
   ]
  },
  {
   "cell_type": "code",
   "execution_count": 138,
   "metadata": {},
   "outputs": [
    {
     "name": "stdout",
     "output_type": "stream",
     "text": [
      "Greg Mcgregory's' starting salary is 100000\n",
      "Good job, Greg, you deserve a raise!\n",
      "Greg Mcgregory's' NEW salary is 125000\n",
      "Good job, Greg, you deserve ANOTHER raise!\n",
      "Greg Mcgregory's' NEW salary is 156250\n"
     ]
    }
   ],
   "source": [
    "empl1.raise_amount = 1.25 # set an instance attribute for raise amount for 25% raise\n",
    "\n",
    "print(f\"{empl1.employee_full_name()}'s' starting salary is {empl1.salary}\")\n",
    "print(f\"Good job, {empl1.first}, you deserve a raise!\")\n",
    "empl1.apply_raise()\n",
    "print(f\"{empl1.employee_full_name()}'s' NEW salary is {empl1.salary}\")\n",
    "print(f\"Good job, {empl1.first}, you deserve ANOTHER raise!\")\n",
    "empl1.apply_raise()\n",
    "print(f\"{empl1.employee_full_name()}'s' NEW salary is {empl1.salary}\")\n",
    "\n",
    "# BUT NOW, the raise amount uses the INSTANCE raise amount \n",
    "# because the function multiplies by the SELF (instance) attribute (self.raise_amount)"
   ]
  },
  {
   "cell_type": "markdown",
   "metadata": {},
   "source": [
    "##### In-Class Exercise #3 - Add two methods to your car class. \n",
    "- One method called `drive` \n",
    "    - that will take in the number of miles \n",
    "    - and decrease that car's `gas_level` by 1 unit for every 5 miles. \n",
    "    \n",
    "- Another method called `fill_up` \n",
    "    - will take in gallons \n",
    "    - and increase the `gas_level` by 10 units for every gallon."
   ]
  },
  {
   "cell_type": "code",
   "execution_count": 201,
   "metadata": {},
   "outputs": [],
   "source": [
    "class Car:\n",
    "    make = 'Subaru'\n",
    "    def __init__(self, model, color, gas_level = 100):\n",
    "        self.model = model\n",
    "        self.color = color\n",
    "        self.gas_level = gas_level\n",
    "        \n",
    "    def drive(self, miles_driven):\n",
    "    # Brian used floor division to avoid decimals\n",
    "    # and set a variable to make it easier to print message\n",
    "        unit_decrease = miles_driven // 5\n",
    "        self.gas_level -= unit_decrease\n",
    "        # print(f\"This car has a gas level of {self.gas_level}\")\n",
    "        print(f\"After driving {miles_driven} miles, this car has gas level {self.gas_level}.\")\n",
    "    \n",
    "    def fill_up(self, gallons):\n",
    "    # Brian used floor division to avoid decimals\n",
    "    # and set a variable to make it easier to print message\n",
    "        unit_increase = gallons * 10\n",
    "        self.gas_level += unit_increase\n",
    "        #print(f\"This car has a gas level of {self.gas_level}\")\n",
    "        print(f\"After adding {gallons} gallons of fuel, this car has gas level {self.gas_level}.\")\n",
    "        \n",
    "car1 = Car('Outback', 'white')\n",
    "car2 = Car('Forester', 'blue')\n",
    "car3 = Car('Rav4', 'green', 80)\n",
    "car3.make = 'Toyota'"
   ]
  },
  {
   "cell_type": "code",
   "execution_count": 202,
   "metadata": {},
   "outputs": [
    {
     "name": "stdout",
     "output_type": "stream",
     "text": [
      "After driving 5 miles, this car has gas level 99.\n"
     ]
    }
   ],
   "source": [
    "# with brian's way:\n",
    "car1_miles = 5\n",
    "car1.drive(car1_miles)\n"
   ]
  },
  {
   "cell_type": "code",
   "execution_count": 203,
   "metadata": {},
   "outputs": [
    {
     "name": "stdout",
     "output_type": "stream",
     "text": [
      "After adding 15 gallons of fuel, this car has gas level 249.\n"
     ]
    }
   ],
   "source": [
    "# with brian's way:\n",
    "car1_fill = 15\n",
    "car1.fill_up(car1_fill)"
   ]
  },
  {
   "cell_type": "code",
   "execution_count": 188,
   "metadata": {},
   "outputs": [],
   "source": [
    "# my way:\n",
    "\n",
    "class Car:\n",
    "    make = 'Subaru'\n",
    "    def __init__(self, model, color, gas_level = 100):\n",
    "        self.model = model\n",
    "        self.color = color\n",
    "        self.gas_level = gas_level\n",
    "        \n",
    "    def drive(self, miles_driven):\n",
    "        self.gas_level -= miles_driven * 0.2\n",
    "    \n",
    "    def fill_up(self, gallons):\n",
    "        self.gas_level += gallons * 10\n",
    "        \n",
    "car1 = Car('Outback', 'white')\n",
    "car2 = Car('Forester', 'blue')\n",
    "car3 = Car('Rav4', 'green', 80)\n",
    "car3.make = 'Toyota'\n"
   ]
  },
  {
   "cell_type": "code",
   "execution_count": 189,
   "metadata": {},
   "outputs": [
    {
     "name": "stdout",
     "output_type": "stream",
     "text": [
      "('Subaru', 'Outback') starts with gas level 100\n",
      "('Subaru', 'Outback') drove 5 miles and now has gas level 99.0\n",
      "('Subaru', 'Outback') adds 10 gallons of gas to the tank\n",
      "('Subaru', 'Outback') now has gas level 199.0\n"
     ]
    }
   ],
   "source": [
    "# my way\n",
    "car1_miles = 5\n",
    "print(f\"{car1.make, car1.model} starts with gas level {car1.gas_level}\")\n",
    "car1.drive(car1_miles)\n",
    "print(f\"{car1.make, car1.model} drove {car1_miles} miles and now has gas level {car1.gas_level}\")\n",
    "\n",
    "car1_fill = 10\n",
    "car1.fill_up(car1_fill)\n",
    "print(f\"{car1.make, car1.model} adds {car1_fill} gallons of gas to the tank\")\n",
    "print(f\"{car1.make, car1.model} now has gas level {car1.gas_level}\")\n"
   ]
  },
  {
   "cell_type": "code",
   "execution_count": 190,
   "metadata": {},
   "outputs": [
    {
     "name": "stdout",
     "output_type": "stream",
     "text": [
      "('Subaru', 'Forester') starts with gas level 100\n",
      "('Subaru', 'Forester') drove 50 miles and now has gas level 90.0\n",
      "('Subaru', 'Forester') adds 6.5 gallons of gas to the tank\n",
      "('Subaru', 'Forester') now has gas level 155.0\n"
     ]
    }
   ],
   "source": [
    "# my way\n",
    "car2_miles = 50\n",
    "print(f\"{car2.make, car2.model} starts with gas level {car2.gas_level}\")\n",
    "car2.drive(car2_miles)\n",
    "print(f\"{car2.make, car2.model} drove {car2_miles} miles and now has gas level {car2.gas_level}\")\n",
    "\n",
    "car2_fill = 6.5\n",
    "car2.fill_up(car2_fill)\n",
    "print(f\"{car2.make, car2.model} adds {car2_fill} gallons of gas to the tank\")\n",
    "print(f\"{car2.make, car2.model} now has gas level {car2.gas_level}\")"
   ]
  },
  {
   "cell_type": "markdown",
   "metadata": {},
   "source": [
    "## Classes as Attributes <br>\n",
    "<p>Classes can also be used as attributes within another class. This is useful in situations where you need to keep variables locally stored, instead of globally stored.</p>"
   ]
  },
  {
   "cell_type": "code",
   "execution_count": 204,
   "metadata": {},
   "outputs": [],
   "source": [
    "class Album:\n",
    "    \n",
    "    def __init__(self, title, artist, release_year, song_list=[]):\n",
    "        self.title = title\n",
    "        self.artist = artist\n",
    "        self.release_year = release_year\n",
    "        self.song_list = song_list\n",
    "    \n",
    "    def add_song(self, song):\n",
    "        self.song_list.append(song)\n",
    "        print(f\"{song.name} has been added to the album\")\n",
    "\n",
    "\n",
    "class Song:\n",
    "    def __init__(self, name, length, features = None):\n",
    "        self.name = name\n",
    "        self.length = length\n",
    "        self.features = features\n",
    "        \n",
    "    def play(self):\n",
    "        print(f\"{self.name} is playing for the next {self.length}\")\n",
    "\n",
    "\n",
    "class Artist:\n",
    "    \n",
    "    def __init__(self, name, members = []):\n",
    "        self.name = name\n",
    "        self.members = members\n",
    "\n",
    "\n"
   ]
  },
  {
   "cell_type": "code",
   "execution_count": 205,
   "metadata": {},
   "outputs": [],
   "source": [
    "# create instance of artist\n",
    "\n",
    "beatles = Artist('The Beatles', ['John', 'Paul', 'George', 'Ringo'])\n",
    "\n",
    "song1 = Song('Come Together', '4:19')\n",
    "song2 = Song('Something', '3:02')\n",
    "song3 = Song(\"Maxwell's Silver Hammer\", '3:27')\n",
    "\n",
    "abbey_road = Album('Abbey Road', beatles, 1969)"
   ]
  },
  {
   "cell_type": "code",
   "execution_count": null,
   "metadata": {},
   "outputs": [],
   "source": []
  },
  {
   "cell_type": "markdown",
   "metadata": {},
   "source": [
    "# Exercises"
   ]
  },
  {
   "cell_type": "markdown",
   "metadata": {},
   "source": [
    "### Exercise 1 - Turn the shopping cart program into an object-oriented program"
   ]
  },
  {
   "cell_type": "code",
   "execution_count": null,
   "metadata": {},
   "outputs": [],
   "source": [
    "# Create a class called cart that retains items and has methods to add, remove, and show\n",
    "\n",
    "class shopping_cart:\n",
    "    \n",
    "    def __init__(self, item_name, item_quantity, item_price)\n",
    "    "
   ]
  },
  {
   "cell_type": "markdown",
   "metadata": {},
   "source": [
    "### Exercise 2 - Write a Python class for an Animal \n",
    "- that has a name and energy attributes. \n",
    "<br>\n",
    "- The animal class should also have methods for \n",
    "    - eat, \n",
    "    - sleep, and \n",
    "    - play \n",
    "    that will \n",
    "- take in an integer and \n",
    "- increase/decrease the energy of the animal \n",
    "- with a formatted print statement"
   ]
  },
  {
   "cell_type": "code",
   "execution_count": null,
   "metadata": {},
   "outputs": [],
   "source": [
    "# Example 1\n",
    "# buddy = Animal('Buddy', 10)\n",
    "# buddy.play(5) -> \"Buddy is playing for 5 minutes. His energy is now 5\"\n",
    "# buddy.sleep(10) -> \"Buddy is sleeping for 5 minutes. His energy is now 15\""
   ]
  },
  {
   "cell_type": "code",
   "execution_count": null,
   "metadata": {},
   "outputs": [],
   "source": [
    "    def drive(self, miles_driven):\n",
    "        self.gas_level -= miles_driven * 0.2\n",
    "    \n",
    "    def fill_up(self, gallons):\n",
    "        self.gas_level += gallons * 10"
   ]
  },
  {
   "cell_type": "code",
   "execution_count": null,
   "metadata": {},
   "outputs": [],
   "source": [
    "class Animal:\n",
    "    eat = False\n",
    "    play = True\n",
    "    rest = False\n",
    "    def __init__(self, food_level = 100, sleep_level = 0, energy_level = 100):\n",
    "        self.food_level = food_level\n",
    "        self.sleep_level = 100 - energy_level\n",
    "        self.energy_level = energy_level\n",
    "        if self.food_level > 100:\n",
    "            self.energy_level -= (self.food_level - 100)\n",
    "            play = False\n",
    "            eat = False\n",
    "            rest = True\n",
    "        if self.energy_level > 0 and self.energy_level <= 25:\n",
    "            rest = True\n",
    "            play = False\n",
    "            print(\"Your pet must rest! \")\n",
    "        if food_level < 50:\n",
    "            eat = True\n",
    "            print(\"Please feed your pet! Meals will power-up more than treats ;)\")\n",
    "        if sleep_level > 50:\n",
    "            play = False\n",
    "            print(\"Your pet is tired... Consider resting!|nNo play time for now ;)\")\n",
    "        \n",
    "        \n",
    "    def eat(self, food_type, food_amount):\n",
    "        if Animal.eat == True:\n",
    "            if food_type != 'treat':\n",
    "                self.food_level = food_amount * 20\n",
    "            else self.food_level = food_amount\n",
    "            print(f\"Thank you for feeding your pet! Their energy level is now {energy_level}/100\")\n",
    "        \n",
    "    def sleep(self, time_hours):\n",
    "        if Animal.sleep == True:\n",
    "            sleep_level -= time_hours * 5\n",
    "            print(f\"Thank you for resting your pet!\\n \\\n",
    "            Their energy level is now {energy_level}/100\\n \\\n",
    "            Their sleep level is now {sleep_level}/100\")\n",
    "        else:\n",
    "        \n",
    "    def play(self, play_type, play_time):\n",
    "        if Animal.play == True:\n",
    "            if play_type == 'walk':\n",
    "                self.energy_level -= play_time\n",
    "            else self.energy_level -= play_time * 2\n",
    "        else:\n",
    "            print(\"Sorry, your pet doesn't have the energy to play. Consider 'eat' or 'sleep'\")\n",
    "        self.food_level\n",
    "        \n",
    "\n",
    "        "
   ]
  }
 ],
 "metadata": {
  "kernelspec": {
   "display_name": "Python 3 (ipykernel)",
   "language": "python",
   "name": "python3"
  },
  "language_info": {
   "codemirror_mode": {
    "name": "ipython",
    "version": 3
   },
   "file_extension": ".py",
   "mimetype": "text/x-python",
   "name": "python",
   "nbconvert_exporter": "python",
   "pygments_lexer": "ipython3",
   "version": "3.9.7"
  }
 },
 "nbformat": 4,
 "nbformat_minor": 2
}
